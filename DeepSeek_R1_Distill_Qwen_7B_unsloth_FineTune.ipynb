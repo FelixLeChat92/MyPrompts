{
  "nbformat": 4,
  "nbformat_minor": 0,
  "metadata": {
    "colab": {
      "provenance": [],
      "gpuType": "T4",
      "authorship_tag": "ABX9TyO8KS7LGyHY5mdlzTGjGc5U",
      "include_colab_link": true
    },
    "kernelspec": {
      "name": "python3",
      "display_name": "Python 3"
    },
    "language_info": {
      "name": "python"
    },
    "accelerator": "GPU"
  },
  "cells": [
    {
      "cell_type": "markdown",
      "metadata": {
        "id": "view-in-github",
        "colab_type": "text"
      },
      "source": [
        "<a href=\"https://colab.research.google.com/github/FelixLeChat92/MyPrompts/blob/main/DeepSeek_R1_Distill_Qwen_7B_unsloth_FineTune.ipynb\" target=\"_parent\"><img src=\"https://colab.research.google.com/assets/colab-badge.svg\" alt=\"Open In Colab\"/></a>"
      ]
    },
    {
      "cell_type": "code",
      "source": [
        "#@title 1. Setup and Dependencies\n",
        "%%capture\n",
        "!pip install -U bitsandbytes\n",
        "!pip install -U transformers==4.39.2\n",
        "!pip install -U peft==0.9.0\n",
        "!pip install -U accelerate==0.28.0\n",
        "!pip install -U datasets==2.17.0\n",
        "!pip install -U trl==0.7.10\n",
        "!pip install -U einops\n",
        "!pip uninstall -y protobuf\n",
        "!pip install --no-binary :all: protobuf\n",
        "!pip install -U unsloth==2024.4\n",
        "!pip install -U wandb\n",
        "\n",
        "import os\n",
        "import sys\n",
        "\n",
        "BASE_PATH = '/content'\n",
        "PROJECT_PATH = os.path.join(BASE_PATH, 'LLaMA-Factory')\n",
        "os.chdir(BASE_PATH)\n",
        "\n",
        "# Clone the repository with depth 1 for faster cloning\n",
        "if not os.path.exists(PROJECT_PATH):\n",
        "    !git clone --depth 1 https://github.com/hiyouga/LLaMA-Factory.git {PROJECT_PATH}\n",
        "\n",
        "# Move to the project directory\n",
        "os.chdir(PROJECT_PATH)\n",
        "\n",
        "# Install LLaMA Factory\n",
        "!pip install -e .[torch,bitsandbytes]"
      ],
      "metadata": {
        "id": "SuQ0exj_5uot"
      },
      "execution_count": null,
      "outputs": []
    },
    {
      "cell_type": "code",
      "source": [
        "#@title 2. Check GPU Environment\n",
        "import torch\n",
        "\n",
        "try:\n",
        "    assert torch.cuda.is_available() is True\n",
        "    print(\"GPU is available. Proceeding with setup.\")\n",
        "except AssertionError:\n",
        "    print(\"Error: Please set up a GPU before using LLaMA Factory.\")\n",
        "    print(\"Instructions for setting up a GPU in Colab: https://medium.com/mlearning-ai/training-yolov4-on-google-colab-316f8fff99c6\")\n",
        "    sys.exit(1)"
      ],
      "metadata": {
        "id": "9owAXOfR5vCd"
      },
      "execution_count": null,
      "outputs": []
    },
    {
      "cell_type": "code",
      "source": [
        "#@title 3. Create Medical Dataset Configuration\n",
        "%%writefile {PROJECT_PATH}/data/dataset_info.json\n",
        "{\n",
        "    \"medical_qa\": {\n",
        "        \"hf_hub_url\": \"keivalya/MedQuad-MedicalQnADataset\",\n",
        "        \"columns\": {\n",
        "            \"prompt\": \"Question\",\n",
        "            \"response\": \"Answer\"\n",
        "        }\n",
        "    }\n",
        "}"
      ],
      "metadata": {
        "id": "csrEJV-s5xxG"
      },
      "execution_count": null,
      "outputs": []
    },
    {
      "cell_type": "code",
      "source": [
        "#@title 4. Define Parameters for Model Fine-Tuning\n",
        "model_name = \"unsloth/DeepSeek-R1-Distill-Qwen-7B-unsloth-bnb-4bit\" #@param {type:\"string\"}\n",
        "dataset = \"medical_qa\" #@param {type:\"string\"}\n",
        "template = \"qwen\" #@param {type:\"string\"}\n",
        "finetuning_type = \"lora\" #@param {type:\"string\"}\n",
        "lora_target = \"all\" #@param {type:\"string\"}\n",
        "output_dir = \"deepseek_lora\" #@param {type:\"string\"}\n",
        "per_device_train_batch_size = 1 #@param {type:\"integer\"}\n",
        "gradient_accumulation_steps = 8 #@param {type:\"integer\"}\n",
        "lr_scheduler_type = \"cosine\" #@param {type:\"string\"}\n",
        "logging_steps = 1 #@param {type:\"integer\"}\n",
        "warmup_ratio = 0.1 #@param {type:\"number\"}\n",
        "save_steps = 10 #@param {type:\"integer\"}\n",
        "learning_rate = 5e-5 #@param {type:\"number\"}\n",
        "num_train_epochs = 3.0 #@param {type:\"number\"}\n",
        "max_samples = 500 #@param {type:\"integer\"}\n",
        "max_grad_norm = 0.3 #@param {type:\"number\"}\n",
        "loraplus_lr_ratio = 16.0 #@param {type:\"number\"}\n",
        "fp16 = True #@param {type:\"boolean\"}\n",
        "report_to = \"wandb\" #@param {type:\"string\"}\n",
        "run_name = \"sft-deepseek-medical-qa\" #@param {type:\"string\"}"
      ],
      "metadata": {
        "id": "WHrDawte50z3"
      },
      "execution_count": null,
      "outputs": []
    },
    {
      "cell_type": "code",
      "source": [
        "#@title 5. Fine-tune Model via Command Line\n",
        "from google.colab import userdata\n",
        "import os\n",
        "\n",
        "# Initialize environment variable for W&B API key from Colab userdata\n",
        "os.environ[\"WANDB_API_KEY\"] = userdata.get(\"WANDB_API_KEY\")\n",
        "os.environ[\"WANDB_PROJECT\"] = \"llama-factory-finetune\"\n",
        "\n",
        "!CUDA_VISIBLE_DEVICES=0 llamafactory-cli train \\\n",
        "    --stage sft \\\n",
        "    --do_train \\\n",
        "    --model_name_or_path {model_name} \\\n",
        "    --dataset {dataset} \\\n",
        "    --template {template} \\\n",
        "    --finetuning_type {finetuning_type} \\\n",
        "    --lora_target {lora_target} \\\n",
        "    --output_dir {output_dir} \\\n",
        "    --per_device_train_batch_size {per_device_train_batch_size} \\\n",
        "    --gradient_accumulation_steps {gradient_accumulation_steps} \\\n",
        "    --lr_scheduler_type {lr_scheduler_type} \\\n",
        "    --logging_steps {logging_steps} \\\n",
        "    --warmup_ratio {warmup_ratio} \\\n",
        "    --save_steps {save_steps} \\\n",
        "    --learning_rate {learning_rate} \\\n",
        "    --num_train_epochs {num_train_epochs} \\\n",
        "    --max_samples {max_samples} \\\n",
        "    --max_grad_norm {max_grad_norm} \\\n",
        "    --loraplus_lr_ratio {loraplus_lr_ratio} \\\n",
        "    --fp16 {fp16} \\\n",
        "    --report_to {report_to} \\\n",
        "    --run_name {run_name}"
      ],
      "metadata": {
        "id": "an0IijI1536O"
      },
      "execution_count": null,
      "outputs": []
    },
    {
      "cell_type": "code",
      "source": [
        "#@title 6. Merge the LoRA Adapter (Optional)\n",
        "merge = True #@param {type:\"boolean\"}\n",
        "if merge:\n",
        "    !llamafactory-cli export \\\n",
        "        --model_name_or_path \"unsloth/DeepSeek-R1-Distill-Qwen-7B\" \\\n",
        "        --adapter_name_or_path {output_dir} \\\n",
        "        --template {template} \\\n",
        "        --finetuning_type {finetuning_type} \\\n",
        "        --export_dir deepseek_lora_merged \\\n",
        "        --export_size 2 \\\n",
        "        --export_device \"cpu\"\n",
        "    print(\"LoRA adapter merged successfully. Check the 'deepseek_lora_merged' directory.\")\n",
        "else:\n",
        "    print(\"LoRA adapter merge skipped.\")"
      ],
      "metadata": {
        "id": "ztkTf4mh55qJ"
      },
      "execution_count": null,
      "outputs": []
    },
    {
      "cell_type": "code",
      "source": [
        "#@title 7. Download the Merged Model (Optional)\n",
        "download_merged = True #@param {type:\"boolean\"}\n",
        "if download_merged:\n",
        "    from google.colab import files\n",
        "    !zip -r deepseek_lora_merged.zip deepseek_lora_merged\n",
        "    files.download('deepseek_lora_merged.zip')\n",
        "else:\n",
        "    print(\"Merged model download skipped.\")"
      ],
      "metadata": {
        "id": "mnHMICJQ57bj"
      },
      "execution_count": null,
      "outputs": []
    },
    {
      "cell_type": "code",
      "source": [
        "from huggingface_hub import login, create_repo, upload_folder\n",
        "from google.colab import userdata\n",
        "HF_TOKEN=userdata.get('HF_TOKEN')\n",
        "\n",
        "# Log in to Hugging Face (replace with your token)\n",
        "login(token=HF_TOKEN)\n",
        "\n",
        "# Create a repository (if it doesn't exist)\n",
        "repo_name = \"Felprot75/deepseek-lora-merged\"  # Replace with desired repo name\n",
        "create_repo(repo_name, exist_ok=True)\n",
        "\n",
        "# Upload the model folder\n",
        "upload_folder(\n",
        "    repo_id=repo_name,\n",
        "    folder_path=\"deepseek_lora_merged\",\n",
        "    path_in_repo=\"\",  # Upload to root of repo\n",
        "    commit_message=\"Upload merged DeepSeek LoRA model\",\n",
        ")\n",
        "\n",
        "print(f\"Model uploaded to Hugging Face: {repo_name}\")"
      ],
      "metadata": {
        "id": "UU60uJz4_beh"
      },
      "execution_count": null,
      "outputs": []
    }
  ]
}